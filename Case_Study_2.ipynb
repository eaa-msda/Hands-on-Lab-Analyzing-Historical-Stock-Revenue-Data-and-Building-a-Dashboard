{
  "nbformat": 4,
  "nbformat_minor": 0,
  "metadata": {
    "colab": {
      "provenance": [],
      "mount_file_id": "14we7yYv4lkTjjCdI9FjGbjV2N4dIuJrc",
      "authorship_tag": "ABX9TyN4IHyKxxJkP1KaILz4pvP8",
      "include_colab_link": true
    },
    "kernelspec": {
      "name": "python3",
      "display_name": "Python 3"
    },
    "language_info": {
      "name": "python"
    }
  },
  "cells": [
    {
      "cell_type": "markdown",
      "metadata": {
        "id": "view-in-github",
        "colab_type": "text"
      },
      "source": [
        "<a href=\"https://colab.research.google.com/github/eaa-msda/Hands-on-Lab-Analyzing-Historical-Stock-Revenue-Data-and-Building-a-Dashboard/blob/main/Case_Study_2.ipynb\" target=\"_parent\"><img src=\"https://colab.research.google.com/assets/colab-badge.svg\" alt=\"Open In Colab\"/></a>"
      ]
    },
    {
      "cell_type": "code",
      "execution_count": null,
      "metadata": {
        "id": "cjz2XhQxLQC4"
      },
      "outputs": [],
      "source": [
        "# Errol Ian Ave Acosta\n",
        "# SQL | Python\n",
        "# Case Study 2: How Can a Wellness Technology\n",
        "# Google Data Analytics Certificate\n",
        "# February 8, 2025"
      ]
    },
    {
      "cell_type": "code",
      "source": [
        "# Step 1: SQL Setup\n",
        "\n",
        "# Since Google Colab doesn't natively support SQL databases,\n",
        "# we will use SQLite to store and query our data. The workflow:\n",
        "# Load the CSV files into SQLite\n",
        "# Clean and preprocess data\n",
        "# Perform SQL queries for insights\n",
        "# Export relevant tables to be used in Python"
      ],
      "metadata": {
        "id": "JgabJIMyTpe0"
      },
      "execution_count": null,
      "outputs": []
    },
    {
      "cell_type": "code",
      "source": [
        "import sqlite3\n",
        "import pandas as pd\n",
        "\n",
        "# Connect to SQLite database (creates a new one if it doesn't exist)\n",
        "conn = sqlite3.connect(\"bellabeat.db\")\n",
        "cursor = conn.cursor()\n"
      ],
      "metadata": {
        "id": "Rs75d7XdTjen"
      },
      "execution_count": null,
      "outputs": []
    },
    {
      "cell_type": "code",
      "source": [
        "# 1.2 Load Relevant CSV Files into SQLite\n",
        "\n",
        "# We'll only use the most relevant datasets for this case study:\n",
        "# dailyActivity_merged.csv (Overall activity, calories, steps)\n",
        "# sleepDay_merged.csv (Sleep patterns)\n",
        "# hourlySteps_merged.csv (Hourly movement trends)\n",
        "# hourlyCalories_merged.csv (Calorie burn patterns)\n",
        "# weightLogInfo_merged.csv (Weight tracking data)"
      ],
      "metadata": {
        "id": "QWFVMUDlR0QI"
      },
      "execution_count": null,
      "outputs": []
    },
    {
      "cell_type": "code",
      "source": [
        "# Mount the Google Drive\n",
        "from google.colab import drive\n",
        "drive.mount('/content/drive')"
      ],
      "metadata": {
        "id": "eO3YVGEhUeAp"
      },
      "execution_count": null,
      "outputs": []
    },
    {
      "cell_type": "code",
      "source": [
        "import sqlite3\n",
        "import pandas as pd\n",
        "\n",
        "# Re-establish the connection:\n",
        "conn = sqlite3.connect(\"bellabeat.db\")  # This ensures the connection is open\n",
        "\n",
        "# Function to check table schema\n",
        "def check_table_schema(table_name):\n",
        "    query = f\"PRAGMA table_info({table_name});\"\n",
        "    df = pd.read_sql(query, conn)\n",
        "    print(f\"Schema for {table_name}:\")\n",
        "    print(df)\n",
        "    print(\"\\n\" + \"=\"*50 + \"\\n\")\n",
        "\n",
        "# Check schema for each table\n",
        "for table in [\"daily_activity\", \"sleep_data\", \"hourly_steps\", \"hourly_calories\", \"weight_data\"]:\n",
        "    check_table_schema(table)\n",
        "\n",
        "conn.close()  # Close the connection when done\n"
      ],
      "metadata": {
        "id": "G88RwVYrUh6H"
      },
      "execution_count": null,
      "outputs": []
    },
    {
      "cell_type": "code",
      "source": [
        "# Store Data in SQLite\n",
        "\n",
        "# Connect to SQLite database (Creates a new one if not exists)\n",
        "conn = sqlite3.connect(\"bellabeat.db\")\n",
        "cursor = conn.cursor()\n",
        "\n",
        "# Store DataFrames in SQLite\n",
        "activity_df.to_sql(\"daily_activity\", conn, if_exists=\"replace\", index=False)\n",
        "sleep_df.to_sql(\"sleep_data\", conn, if_exists=\"replace\", index=False)\n",
        "hourly_steps_df.to_sql(\"hourly_steps\", conn, if_exists=\"replace\", index=False)\n",
        "hourly_calories_df.to_sql(\"hourly_calories\", conn, if_exists=\"replace\", index=False)\n",
        "weight_df.to_sql(\"weight_data\", conn, if_exists=\"replace\", index=False)\n",
        "\n",
        "print(\"Data successfully stored in SQLite!\")\n"
      ],
      "metadata": {
        "id": "Si7xMBdcVioP"
      },
      "execution_count": null,
      "outputs": []
    },
    {
      "cell_type": "code",
      "source": [
        "# Verification: Check Data Stored in SQLite\n",
        "# Run a quick check to ensure everything is stored correctly.\n",
        "\n",
        "# Check tables in database\n",
        "cursor.execute(\"SELECT name FROM sqlite_master WHERE type='table';\")\n",
        "print(cursor.fetchall())\n",
        "\n",
        "# Check first few rows from each table\n",
        "for table in [\"daily_activity\", \"sleep_data\", \"hourly_steps\", \"hourly_calories\", \"weight_data\"]:\n",
        "    print(f\"First 5 rows from {table}:\")\n",
        "    df = pd.read_sql(f\"SELECT * FROM {table} LIMIT 5;\", conn)\n",
        "    print(df)\n"
      ],
      "metadata": {
        "id": "bJlLKFemVrKu"
      },
      "execution_count": null,
      "outputs": []
    },
    {
      "cell_type": "code",
      "source": [
        "# SQL Query View Test (Google Colab)\n",
        "# Now that the data is stored in SQLite\n",
        "# let's run a few test queries to ensure everything is working properly."
      ],
      "metadata": {
        "id": "zRDZ4EdyWqaH"
      },
      "execution_count": null,
      "outputs": []
    },
    {
      "cell_type": "code",
      "source": [
        "# Verify Table Structure\n",
        "# Function to check table schema\n",
        "def check_table_schema(table_name):\n",
        "    query = f\"PRAGMA table_info({table_name});\"\n",
        "    df = pd.read_sql(query, conn)\n",
        "    print(f\"Schema for {table_name}:\")\n",
        "    print(df)\n",
        "    print(\"\\n\" + \"=\"*50 + \"\\n\")\n",
        "\n",
        "# Check schema for each table\n",
        "for table in [\"daily_activity\", \"sleep_data\", \"hourly_steps\", \"hourly_calories\", \"weight_data\"]:\n",
        "    check_table_schema(table)\n"
      ],
      "metadata": {
        "id": "b5NvcrhnXJcj"
      },
      "execution_count": null,
      "outputs": []
    },
    {
      "cell_type": "code",
      "source": [
        "# Count Number of Rows in Each Table\n",
        "\n",
        "# Function to count rows in a table\n",
        "def count_rows(table_name):\n",
        "    query = f\"SELECT COUNT(*) AS row_count FROM {table_name};\"\n",
        "    df = pd.read_sql(query, conn)\n",
        "    print(f\"Total rows in {table_name}: {df.iloc[0,0]}\")\n",
        "    print(\"\\n\" + \"=\"*50 + \"\\n\")\n",
        "\n",
        "# Check row count for each table\n",
        "for table in [\"daily_activity\", \"sleep_data\", \"hourly_steps\", \"hourly_calories\", \"weight_data\"]:\n",
        "    count_rows(table)\n"
      ],
      "metadata": {
        "colab": {
          "base_uri": "https://localhost:8080/"
        },
        "id": "rdPiYkZZXvLw",
        "outputId": "49135497-9ef5-414b-de1c-464a57e30770"
      },
      "execution_count": 24,
      "outputs": [
        {
          "output_type": "stream",
          "name": "stdout",
          "text": [
            "Total rows in daily_activity: 940\n",
            "\n",
            "==================================================\n",
            "\n",
            "Total rows in sleep_data: 413\n",
            "\n",
            "==================================================\n",
            "\n",
            "Total rows in hourly_steps: 22099\n",
            "\n",
            "==================================================\n",
            "\n",
            "Total rows in hourly_calories: 22099\n",
            "\n",
            "==================================================\n",
            "\n",
            "Total rows in weight_data: 67\n",
            "\n",
            "==================================================\n",
            "\n"
          ]
        }
      ]
    },
    {
      "cell_type": "code",
      "source": [
        "# Sample Data from Each Table\n",
        "\n",
        "# Function to view first 5 rows of a table\n",
        "def preview_table(table_name):\n",
        "    query = f\"SELECT * FROM {table_name} LIMIT 5;\"\n",
        "    df = pd.read_sql(query, conn)\n",
        "    print(f\"First 5 rows from {table_name}:\")\n",
        "    print(df)\n",
        "    print(\"\\n\" + \"=\"*50 + \"\\n\")\n",
        "\n",
        "# Preview each table\n",
        "for table in [\"daily_activity\", \"sleep_data\", \"hourly_steps\", \"hourly_calories\", \"weight_data\"]:\n",
        "    preview_table(table)\n"
      ],
      "metadata": {
        "colab": {
          "base_uri": "https://localhost:8080/"
        },
        "id": "T5xQUhxRX0LT",
        "outputId": "8440bc40-16e6-4ebd-c056-a1c371286f91"
      },
      "execution_count": 25,
      "outputs": [
        {
          "output_type": "stream",
          "name": "stdout",
          "text": [
            "First 5 rows from daily_activity:\n",
            "           Id ActivityDate  TotalSteps  TotalDistance  TrackerDistance  \\\n",
            "0  1503960366    4/12/2016       13162           8.50             8.50   \n",
            "1  1503960366    4/13/2016       10735           6.97             6.97   \n",
            "2  1503960366    4/14/2016       10460           6.74             6.74   \n",
            "3  1503960366    4/15/2016        9762           6.28             6.28   \n",
            "4  1503960366    4/16/2016       12669           8.16             8.16   \n",
            "\n",
            "   LoggedActivitiesDistance  VeryActiveDistance  ModeratelyActiveDistance  \\\n",
            "0                       0.0                1.88                      0.55   \n",
            "1                       0.0                1.57                      0.69   \n",
            "2                       0.0                2.44                      0.40   \n",
            "3                       0.0                2.14                      1.26   \n",
            "4                       0.0                2.71                      0.41   \n",
            "\n",
            "   LightActiveDistance  SedentaryActiveDistance  VeryActiveMinutes  \\\n",
            "0                 6.06                      0.0                 25   \n",
            "1                 4.71                      0.0                 21   \n",
            "2                 3.91                      0.0                 30   \n",
            "3                 2.83                      0.0                 29   \n",
            "4                 5.04                      0.0                 36   \n",
            "\n",
            "   FairlyActiveMinutes  LightlyActiveMinutes  SedentaryMinutes  Calories  \n",
            "0                   13                   328               728      1985  \n",
            "1                   19                   217               776      1797  \n",
            "2                   11                   181              1218      1776  \n",
            "3                   34                   209               726      1745  \n",
            "4                   10                   221               773      1863  \n",
            "\n",
            "==================================================\n",
            "\n",
            "First 5 rows from sleep_data:\n",
            "           Id               SleepDay  TotalSleepRecords  TotalMinutesAsleep  \\\n",
            "0  1503960366  4/12/2016 12:00:00 AM                  1                 327   \n",
            "1  1503960366  4/13/2016 12:00:00 AM                  2                 384   \n",
            "2  1503960366  4/15/2016 12:00:00 AM                  1                 412   \n",
            "3  1503960366  4/16/2016 12:00:00 AM                  2                 340   \n",
            "4  1503960366  4/17/2016 12:00:00 AM                  1                 700   \n",
            "\n",
            "   TotalTimeInBed  \n",
            "0             346  \n",
            "1             407  \n",
            "2             442  \n",
            "3             367  \n",
            "4             712  \n",
            "\n",
            "==================================================\n",
            "\n",
            "First 5 rows from hourly_steps:\n",
            "           Id           ActivityHour  StepTotal\n",
            "0  1503960366  4/12/2016 12:00:00 AM        373\n",
            "1  1503960366   4/12/2016 1:00:00 AM        160\n",
            "2  1503960366   4/12/2016 2:00:00 AM        151\n",
            "3  1503960366   4/12/2016 3:00:00 AM          0\n",
            "4  1503960366   4/12/2016 4:00:00 AM          0\n",
            "\n",
            "==================================================\n",
            "\n",
            "First 5 rows from hourly_calories:\n",
            "           Id           ActivityHour  Calories\n",
            "0  1503960366  4/12/2016 12:00:00 AM        81\n",
            "1  1503960366   4/12/2016 1:00:00 AM        61\n",
            "2  1503960366   4/12/2016 2:00:00 AM        59\n",
            "3  1503960366   4/12/2016 3:00:00 AM        47\n",
            "4  1503960366   4/12/2016 4:00:00 AM        48\n",
            "\n",
            "==================================================\n",
            "\n",
            "First 5 rows from weight_data:\n",
            "           Id                   Date    WeightKg  WeightPounds   Fat  \\\n",
            "0  1503960366   5/2/2016 11:59:59 PM   52.599998    115.963147  22.0   \n",
            "1  1503960366   5/3/2016 11:59:59 PM   52.599998    115.963147   NaN   \n",
            "2  1927972279   4/13/2016 1:08:52 AM  133.500000    294.317120   NaN   \n",
            "3  2873212765  4/21/2016 11:59:59 PM   56.700001    125.002104   NaN   \n",
            "4  2873212765  5/12/2016 11:59:59 PM   57.299999    126.324875   NaN   \n",
            "\n",
            "         BMI  IsManualReport          LogId  \n",
            "0  22.650000               1  1462233599000  \n",
            "1  22.650000               1  1462319999000  \n",
            "2  47.540001               0  1460509732000  \n",
            "3  21.450001               1  1461283199000  \n",
            "4  21.690001               1  1463097599000  \n",
            "\n",
            "==================================================\n",
            "\n"
          ]
        }
      ]
    },
    {
      "cell_type": "code",
      "source": [
        "# SQL Query to Test Insights\n",
        "# Find Average Steps Per Day\n",
        "\n",
        "query = \"\"\"\n",
        "SELECT AVG(TotalSteps) AS avg_steps FROM daily_activity;\n",
        "\"\"\"\n",
        "df = pd.read_sql(query, conn)\n",
        "print(\"Average Steps Per Day:\", df.iloc[0, 0])\n"
      ],
      "metadata": {
        "colab": {
          "base_uri": "https://localhost:8080/"
        },
        "id": "V2fA3NTqX52c",
        "outputId": "2be9aeae-f59a-4e8a-9074-1bcec4c61823"
      },
      "execution_count": 27,
      "outputs": [
        {
          "output_type": "stream",
          "name": "stdout",
          "text": [
            "Average Steps Per Day: 7637.9106382978725\n"
          ]
        }
      ]
    },
    {
      "cell_type": "code",
      "source": [
        "# Find Users Who Walked More Than 10,000 Steps\n",
        "query = \"\"\"\n",
        "SELECT Id, TotalSteps FROM daily_activity\n",
        "WHERE TotalSteps > 10000\n",
        "ORDER BY TotalSteps DESC\n",
        "LIMIT 10;\n",
        "\"\"\"\n",
        "df = pd.read_sql(query, conn)\n",
        "print(df)\n"
      ],
      "metadata": {
        "colab": {
          "base_uri": "https://localhost:8080/"
        },
        "id": "6vVWlRgYYB2N",
        "outputId": "1c33196e-c189-45d7-e73f-4d4cf11941a1"
      },
      "execution_count": 28,
      "outputs": [
        {
          "output_type": "stream",
          "name": "stdout",
          "text": [
            "           Id  TotalSteps\n",
            "0  1624580081       36019\n",
            "1  8877689391       29326\n",
            "2  8877689391       27745\n",
            "3  8877689391       23629\n",
            "4  8877689391       23186\n",
            "5  8053475328       22988\n",
            "6  4388161847       22770\n",
            "7  8053475328       22359\n",
            "8  2347167796       22244\n",
            "9  8053475328       22026\n"
          ]
        }
      ]
    },
    {
      "cell_type": "code",
      "source": [
        "# Find Top Active Hours (Based on Steps)\n",
        "\n",
        "query = \"\"\"\n",
        "SELECT SUBSTR(ActivityHour, 12, 2) AS Hour, AVG(StepTotal) AS avg_steps\n",
        "FROM hourly_steps\n",
        "GROUP BY Hour\n",
        "ORDER BY avg_steps DESC\n",
        "LIMIT 5;\n",
        "\"\"\"\n",
        "df = pd.read_sql(query, conn)\n",
        "print(\"Top Active Hours:\")\n",
        "print(df)\n"
      ],
      "metadata": {
        "id": "cPtWIjPDYGnp"
      },
      "execution_count": null,
      "outputs": []
    },
    {
      "cell_type": "code",
      "source": [
        "# TIME TO FOR PYTHON FOR PYTHON ANALYSIS & VISUALIZATION"
      ],
      "metadata": {
        "id": "vnJD0LJGYU45"
      },
      "execution_count": null,
      "outputs": []
    }
  ]
}